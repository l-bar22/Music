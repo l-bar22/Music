{
 "cells": [
  {
   "cell_type": "code",
   "execution_count": 11,
   "metadata": {},
   "outputs": [],
   "source": [
    "import pandas as pd\n",
    "import numpy as np\n",
    "import spotipy\n",
    "from spotipy.oauth2 import SpotifyClientCredentials\n",
    "import json\n",
    "import os\n",
    "from dotenv import load_dotenv\n",
    "load_dotenv()\n",
    "from sklearn.model_selection import train_test_split\n",
    "from sklearn.ensemble import RandomForestClassifier"
   ]
  },
  {
   "cell_type": "code",
   "execution_count": 12,
   "metadata": {},
   "outputs": [],
   "source": [
    "cid = os.getenv(\"CLIENT_ID\")\n",
    "secret = os.getenv(\"CLIENT_SECRET\")\n",
    "client_credentials_manager = SpotifyClientCredentials(client_id=cid, client_secret=secret)\n",
    "sp = spotipy.Spotify(client_credentials_manager=client_credentials_manager)"
   ]
  },
  {
   "cell_type": "code",
   "execution_count": 14,
   "metadata": {},
   "outputs": [
    {
     "name": "stdout",
     "output_type": "stream",
     "text": [
      "What playlist?:37i9dQZF1DXc6IFF23C9jj\n"
     ]
    }
   ],
   "source": [
    "a=input('What playlist?:')"
   ]
  },
  {
   "cell_type": "code",
   "execution_count": 15,
   "metadata": {},
   "outputs": [],
   "source": [
    "def analyze_playlist(*args):\n",
    "    \n",
    "    \n",
    "    playlist_features_list = [\"artist\",\"track_name\",\"track_id\",\"danceability\",\"energy\",\"key\",\"loudness\",\"mode\", \"speechiness\",'acousticness',\"instrumentalness\",\"liveness\",\"valence\",\"tempo\", \"duration_ms\"]\n",
    "    \n",
    "    playlist_df = pd.DataFrame(columns = playlist_features_list)\n",
    "    \n",
    "   \n",
    "    \n",
    "    playlist_tracks = sp.playlist_tracks(*args)[\"items\"]\n",
    "    for track in playlist_tracks:\n",
    "        \n",
    "        playlist_features = {}\n",
    "        \n",
    "        playlist_features[\"artist\"] = track[\"track\"][\"artists\"][0][\"name\"]\n",
    "        playlist_features[\"track_name\"] = track[\"track\"][\"name\"]\n",
    "        playlist_features[\"track_id\"] = track[\"track\"][\"id\"]\n",
    "        \n",
    "    \n",
    "        audio_features = sp.audio_features(playlist_features[\"track_id\"])[0]\n",
    "        for feature in playlist_features_list[3:]:\n",
    "            playlist_features[feature] = audio_features[feature]\n",
    "        \n",
    "        \n",
    "        track_df = pd.DataFrame(playlist_features, index = [0])\n",
    "        playlist_df = pd.concat([playlist_df, track_df], ignore_index = True)\n",
    "        \n",
    "    return playlist_df"
   ]
  },
  {
   "cell_type": "code",
   "execution_count": 16,
   "metadata": {},
   "outputs": [],
   "source": [
    "p=analyze_playlist(a)\n"
   ]
  },
  {
   "cell_type": "code",
   "execution_count": 6,
   "metadata": {},
   "outputs": [],
   "source": [
    "def classify_playlist(*args):\n",
    "    spotify=pd.read_csv('../OUTPUT/spotify.csv')\n",
    "    spotify.drop(columns=['Unnamed: 0'],inplace=True)\n",
    "\n",
    "    y = spotify['intervals'].values\n",
    "    X = spotify[['danceability', 'energy',\n",
    "            'loudness',  'speechiness', 'acousticness',\n",
    "           'instrumentalness', 'liveness', 'valence']].values\n",
    "    X_train, X_test, y_train,y_test = train_test_split(X,y, test_size=0.2)\n",
    "\n",
    "\n",
    "    forest = RandomForestClassifier(n_estimators=200)\n",
    "    forest.fit(X_train, y_train)\n",
    "    tx=p[['danceability', 'energy',\n",
    "            'loudness',  'speechiness', 'acousticness',\n",
    "           'instrumentalness', 'liveness', 'valence']].values\n",
    "    testdata= forest.predict(tx)\n",
    "    return testdata"
   ]
  },
  {
   "cell_type": "code",
   "execution_count": 7,
   "metadata": {},
   "outputs": [
    {
     "data": {
      "text/plain": [
       "array([ 1, -2, -2, -2, -2, -2, -2, -2, -2,  0, -2, -2,  0, -1, -1, -2,  0,\n",
       "        1,  0,  0, -1,  0, -2, -2,  0,  0, -2,  0, -2,  0,  1,  2, -2, -1,\n",
       "       -1, -2,  0, -2,  0, -2, -2,  0,  2,  0,  1,  0,  0,  2,  2, -2, -2,\n",
       "       -1,  0,  0,  2,  1, -2, -2,  2, -2, -2, -2,  2, -2,  1, -2,  0, -1,\n",
       "       -1, -2,  2, -2,  2,  0,  1, -2,  1,  0,  0, -1, -2, -2, -2,  0,  0,\n",
       "        1,  0,  0, -2, -2, -2, -2, -2, -1, -2, -2,  0, -2, -2, -2])"
      ]
     },
     "execution_count": 7,
     "metadata": {},
     "output_type": "execute_result"
    }
   ],
   "source": [
    "b=classify_playlist(p)\n",
    "b"
   ]
  },
  {
   "cell_type": "code",
   "execution_count": 8,
   "metadata": {},
   "outputs": [],
   "source": [
    "def reco(b):\n",
    "\n",
    "    counter = collections.Counter(b)\n",
    "    size=b.size\n",
    "    for k,v in counter.items():\n",
    "      print(k,v)\n",
    "\n",
    "    n=({v})\n",
    "    hey=[]\n",
    "    hey.append(spotify[spotify['intervals']==-2](['track_name'].sample(n=(), random_state=1)))\n",
    "    hey.append(spotify[spotify['intervals']==-1](['track_name'].sample(n=(), random_state=1)))\n",
    "    hey.append(spotify[spotify['intervals']==-0](['track_name'].sample(n=(), random_state=1)))\n",
    "    return hey"
   ]
  },
  {
   "cell_type": "code",
   "execution_count": 9,
   "metadata": {},
   "outputs": [
    {
     "ename": "NameError",
     "evalue": "name 'collections' is not defined",
     "output_type": "error",
     "traceback": [
      "\u001b[0;31m---------------------------------------------------------------------------\u001b[0m",
      "\u001b[0;31mNameError\u001b[0m                                 Traceback (most recent call last)",
      "\u001b[0;32m<ipython-input-9-ca20d315344a>\u001b[0m in \u001b[0;36m<module>\u001b[0;34m\u001b[0m\n\u001b[0;32m----> 1\u001b[0;31m \u001b[0mreco\u001b[0m\u001b[0;34m(\u001b[0m\u001b[0mb\u001b[0m\u001b[0;34m)\u001b[0m\u001b[0;34m\u001b[0m\u001b[0;34m\u001b[0m\u001b[0m\n\u001b[0m",
      "\u001b[0;32m<ipython-input-8-c6145a60910e>\u001b[0m in \u001b[0;36mreco\u001b[0;34m(b)\u001b[0m\n\u001b[1;32m      1\u001b[0m \u001b[0;32mdef\u001b[0m \u001b[0mreco\u001b[0m\u001b[0;34m(\u001b[0m\u001b[0mb\u001b[0m\u001b[0;34m)\u001b[0m\u001b[0;34m:\u001b[0m\u001b[0;34m\u001b[0m\u001b[0;34m\u001b[0m\u001b[0m\n\u001b[1;32m      2\u001b[0m \u001b[0;34m\u001b[0m\u001b[0m\n\u001b[0;32m----> 3\u001b[0;31m     \u001b[0mcounter\u001b[0m \u001b[0;34m=\u001b[0m \u001b[0mcollections\u001b[0m\u001b[0;34m.\u001b[0m\u001b[0mCounter\u001b[0m\u001b[0;34m(\u001b[0m\u001b[0mb\u001b[0m\u001b[0;34m)\u001b[0m\u001b[0;34m\u001b[0m\u001b[0;34m\u001b[0m\u001b[0m\n\u001b[0m\u001b[1;32m      4\u001b[0m     \u001b[0msize\u001b[0m\u001b[0;34m=\u001b[0m\u001b[0mb\u001b[0m\u001b[0;34m.\u001b[0m\u001b[0msize\u001b[0m\u001b[0;34m\u001b[0m\u001b[0;34m\u001b[0m\u001b[0m\n\u001b[1;32m      5\u001b[0m     \u001b[0;32mfor\u001b[0m \u001b[0mk\u001b[0m\u001b[0;34m,\u001b[0m\u001b[0mv\u001b[0m \u001b[0;32min\u001b[0m \u001b[0mcounter\u001b[0m\u001b[0;34m.\u001b[0m\u001b[0mitems\u001b[0m\u001b[0;34m(\u001b[0m\u001b[0;34m)\u001b[0m\u001b[0;34m:\u001b[0m\u001b[0;34m\u001b[0m\u001b[0;34m\u001b[0m\u001b[0m\n",
      "\u001b[0;31mNameError\u001b[0m: name 'collections' is not defined"
     ]
    }
   ],
   "source": [
    "reco(b)"
   ]
  },
  {
   "cell_type": "code",
   "execution_count": null,
   "metadata": {},
   "outputs": [],
   "source": [
    "def recommend(*args):\n",
    "    spotify=pd.read_csv('../OUTPUT/spotify.csv')\n",
    "    spotify.drop(columns=['Unnamed: 0'],inplace=True)\n",
    "    a=spotify.set_index('intervals')\n",
    "    return a['track_name'].sample(n=50, random_state=1).tolist()"
   ]
  },
  {
   "cell_type": "code",
   "execution_count": null,
   "metadata": {},
   "outputs": [],
   "source": [
    "recommend(b)"
   ]
  },
  {
   "cell_type": "code",
   "execution_count": null,
   "metadata": {},
   "outputs": [],
   "source": []
  },
  {
   "cell_type": "code",
   "execution_count": null,
   "metadata": {},
   "outputs": [],
   "source": [
    "def reco(b):\n",
    "\n",
    "    counter = collections.Counter(b)\n",
    "    size=b.size\n",
    "    for k,v in counter.items():\n",
    "      print(k,v)\n",
    "\n",
    "    n=({v})\n",
    "    hey=[]\n",
    "    hey.append(spotify[spotify['intervals']==-2](['track_name'].sample(n=(), random_state=1)))\n",
    "    hey.append(spotify[spotify['intervals']==-1](['track_name'].sample(n=(), random_state=1)))\n",
    "    hey.append(spotify[spotify['intervals']==-0](['track_name'].sample(n=(), random_state=1)))\n",
    "    return hey"
   ]
  },
  {
   "cell_type": "code",
   "execution_count": null,
   "metadata": {},
   "outputs": [],
   "source": [
    "reco(b)"
   ]
  },
  {
   "cell_type": "code",
   "execution_count": null,
   "metadata": {},
   "outputs": [],
   "source": [
    "import collections\n",
    "from collections import Counter\n",
    "\n",
    "counter = collections.Counter(testdata)\n",
    "size=testdata.size\n",
    "for k,v in counter.items():\n",
    "    print(k,'-->',int(v/size*100),'%')\n"
   ]
  },
  {
   "cell_type": "code",
   "execution_count": null,
   "metadata": {},
   "outputs": [],
   "source": [
    "a=spotify.set_index('intervals')\n",
    "a"
   ]
  },
  {
   "cell_type": "code",
   "execution_count": null,
   "metadata": {},
   "outputs": [],
   "source": [
    "a['track_name'].sample(n=50, random_state=1).tolist()\n"
   ]
  },
  {
   "cell_type": "code",
   "execution_count": null,
   "metadata": {},
   "outputs": [],
   "source": [
    "spotify['intervals'].sample(n=100, random_state=1)"
   ]
  },
  {
   "cell_type": "code",
   "execution_count": null,
   "metadata": {},
   "outputs": [],
   "source": [
    "\n",
    "\n",
    "output = {}\n",
    "\n",
    "for unique in spotify[\"intervals\"].unique():\n",
    "    output[unique] = spotify[spotify[\"intervals\"] == unique].sample(30)"
   ]
  },
  {
   "cell_type": "code",
   "execution_count": null,
   "metadata": {},
   "outputs": [],
   "source": [
    "def get_unique_sample(spotify, sample_size=30):\n",
    "    output = {}    \n",
    "    for unique in spotify[\"intervals\"].unique():\n",
    "\n",
    "        subset = spotify[spotify[\"intervals\"] == unique]\n",
    "        samplesize = 30 if len(subset) > 30 else len(subset)\n",
    "        output[unique] = subset.sample(samplesize )\n",
    "    return output"
   ]
  },
  {
   "cell_type": "code",
   "execution_count": 10,
   "metadata": {},
   "outputs": [
    {
     "ename": "NameError",
     "evalue": "name 'get_unique_sample' is not defined",
     "output_type": "error",
     "traceback": [
      "\u001b[0;31m---------------------------------------------------------------------------\u001b[0m",
      "\u001b[0;31mNameError\u001b[0m                                 Traceback (most recent call last)",
      "\u001b[0;32m<ipython-input-10-587845954d4b>\u001b[0m in \u001b[0;36m<module>\u001b[0;34m\u001b[0m\n\u001b[0;32m----> 1\u001b[0;31m \u001b[0mget_unique_sample\u001b[0m\u001b[0;34m(\u001b[0m\u001b[0mspotify\u001b[0m\u001b[0;34m)\u001b[0m\u001b[0;34m\u001b[0m\u001b[0;34m\u001b[0m\u001b[0m\n\u001b[0m",
      "\u001b[0;31mNameError\u001b[0m: name 'get_unique_sample' is not defined"
     ]
    }
   ],
   "source": [
    "get_unique_sample(spotify)"
   ]
  },
  {
   "cell_type": "code",
   "execution_count": null,
   "metadata": {},
   "outputs": [],
   "source": [
    "spotify.head().style.hide_index().hide_columns(['track_id','key','mode','energy','loudness','instrumentalness','speechiness','danceability','acousticness'])"
   ]
  },
  {
   "cell_type": "code",
   "execution_count": null,
   "metadata": {},
   "outputs": [],
   "source": [
    "ls=[]\n",
    "for k,v in spotify['intervals']\n"
   ]
  },
  {
   "cell_type": "code",
   "execution_count": null,
   "metadata": {},
   "outputs": [],
   "source": [
    "n = 40 #number of random tracks you need\n",
    "\n",
    "dd = pd.DataFrame(spotify.groupby(['intervals'])['track_name'] #group and get list of songs by intervals\n",
    "\n",
    "#get n random songs\n",
    "dd['random_track'] = dd['track_name'].apply(np.random.choice, size=(n))\n",
    "dd"
   ]
  },
  {
   "cell_type": "code",
   "execution_count": null,
   "metadata": {},
   "outputs": [],
   "source": [
    "spotify.head()"
   ]
  },
  {
   "cell_type": "code",
   "execution_count": null,
   "metadata": {},
   "outputs": [],
   "source": [
    "for i in spotify:\n",
    "    lista=[]\n",
    "    if any(spotify['intervals'].values) ==-1:\n",
    "        lista.append(spotify['track_name'].values)\n",
    "    elif any(spotify['intervals'].values) ==-2:\n",
    "        lista.append(random(spotify['track_id']['track_name'].values))\n",
    "    elif any(spotify['intervals'].values)==0:\n",
    "        lista.append(random(spotify['track_id']['track_name'].values))\n",
    "    print(lista)"
   ]
  },
  {
   "cell_type": "code",
   "execution_count": null,
   "metadata": {},
   "outputs": [],
   "source": []
  },
  {
   "cell_type": "code",
   "execution_count": null,
   "metadata": {},
   "outputs": [],
   "source": []
  }
 ],
 "metadata": {
  "kernelspec": {
   "display_name": "Python 3",
   "language": "python",
   "name": "python3"
  },
  "language_info": {
   "codemirror_mode": {
    "name": "ipython",
    "version": 3
   },
   "file_extension": ".py",
   "mimetype": "text/x-python",
   "name": "python",
   "nbconvert_exporter": "python",
   "pygments_lexer": "ipython3",
   "version": "3.8.2"
  }
 },
 "nbformat": 4,
 "nbformat_minor": 4
}
